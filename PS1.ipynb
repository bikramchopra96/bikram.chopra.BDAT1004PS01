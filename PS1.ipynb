{
 "cells": [
  {
   "cell_type": "markdown",
   "metadata": {},
   "source": [
    "Question 1:What data type is each of the following?\n",
    "5\n",
    "5.0\n",
    "5 > 1\n",
    "'5'\n",
    "5 * 2\n",
    "'5' * 2\n",
    "'5' + '2'\n",
    "5 / 2\n",
    "5 // 2\n",
    "[5, 2, 1]\n",
    "5 in [1, 4, 6]\n",
    "math.pi"
   ]
  },
  {
   "cell_type": "code",
   "execution_count": 1,
   "metadata": {},
   "outputs": [
    {
     "name": "stdout",
     "output_type": "stream",
     "text": [
      "5 is an integer\n",
      " 5.0 is a float constant\n",
      " 5 > 1 is a boolean whose value is True\n",
      " '5' is a character\n",
      " 5*2 is an integer\n",
      " '5'*2 is a string = '55'\n",
      " '5' + '2' is a concatenated string '52'\n",
      " 5/2 is a float value (2.5)\n",
      " 5 // 2 is an integer (2)\n",
      " [5,2,1] is a list\n",
      " 5 in [1,4,6 ] is a bool whose value is False\n",
      " math.pi is a float with value of pi (3.14)\n",
      "\n"
     ]
    }
   ],
   "source": [
    "print(\"5 is an integer\\n\",\n",
    "\"5.0 is a float constant\\n\",\n",
    "\"5 > 1 is a boolean whose value is True\\n\",\n",
    "\"'5' is a character\\n\",\n",
    "\"5*2 is an integer\\n\",\n",
    "\"'5'*2 is a string = '55'\\n\",\n",
    "\"'5' + '2' is a concatenated string '52'\\n\",\n",
    "\"5/2 is a float value (2.5)\\n\",\n",
    "\"5 // 2 is an integer (2)\\n\",\n",
    "\"[5,2,1] is a list\\n\",\n",
    "\"5 in [1,4,6 ] is a bool whose value is False\\n\",\n",
    "\"math.pi is a float with value of pi (3.14)\\n\")"
   ]
  },
  {
   "cell_type": "markdown",
   "metadata": {},
   "source": [
    "Question 2\n",
    "Write (and evaluate) Python expressions that answer these questions:\n",
    "a. How many letters are there in 'Supercalifragilisticexpialidocious'?\n",
    "b. Does 'Supercalifragilisticexpialidocious' contain 'ice' as a substring? \n",
    "c. Which of the following words is the longest:\n",
    "Supercalifragilisticexpialidocious, Honorificabilitudinitatibus, or\n",
    "Bababadalgharaghtakamminarronnkonn?\n",
    "d. Which composer comes first in the dictionary: 'Berlioz', 'Borodin', 'Brian',\n",
    "'Bartok', 'Bellini', 'Buxtehude', 'Bernstein'. Which one comes last?\n"
   ]
  },
  {
   "cell_type": "code",
   "execution_count": 2,
   "metadata": {},
   "outputs": [
    {
     "name": "stdout",
     "output_type": "stream",
     "text": [
      "There are  34  letters in Supercalifragilisticexpialidocious\n",
      "'Supercalifragilisticexpialidocious' contain 'ice' as a substring--> True\n",
      "Longest word is --> ['Supercalifragilisticexpialidocious', 'Bababadalgharaghtakamminarronnkonn']\n",
      "First word acc to dict order -->  Bartok\n",
      "Last word acc to dict order -->  Buxtehude\n"
     ]
    }
   ],
   "source": [
    "def CountLetters(str):\n",
    "    return len(str)\n",
    "\n",
    "def PatternMatch(str,pattern):\n",
    "    i = 0\n",
    "    j = 0\n",
    "    while(i<len(str)):\n",
    "        if(str[i] == pattern[0]):\n",
    "            j = 0\n",
    "            while(j < len( pattern ) ):\n",
    "                if( str[i + j] != pattern[j]):\n",
    "                    break\n",
    "                j = j + 1\n",
    "            if(j == len(pattern)):\n",
    "                return True\n",
    "        i = i + 1\n",
    "    return False\n",
    "\n",
    "def DictOrder(l1):\n",
    "    l1.sort()\n",
    "    return l1\n",
    "\n",
    "def FindLongest(list1):\n",
    "\n",
    "    out = []\n",
    "    if(len(list1)):\n",
    "        max_length = len(list1[0])\n",
    "        for x in list1:\n",
    "            if(len(x) > max_length):\n",
    "                max_length = len(x)\n",
    "                out = []\n",
    "                out.append(x)\n",
    "            elif(len(x) == max_length):\n",
    "                out.append(x)\n",
    "    return out\n",
    "\n",
    "\n",
    "list1 = ['Berlioz', 'Borodin', 'Brian', 'Bartok', 'Bellini', 'Buxtehude', 'Bernstein']\n",
    "list2 = ['Supercalifragilisticexpialidocious','Honorificabilitudinitatibus','Bababadalgharaghtakamminarronnkonn']\n",
    "# list3 = ['a','b','c','d']\n",
    "print('There are ',CountLetters('Supercalifragilisticexpialidocious'),' letters in Supercalifragilisticexpialidocious')\n",
    "print(\"'Supercalifragilisticexpialidocious' contain 'ice' as a substring-->\",PatternMatch('Supercalifragilisticexpialidocious','ice'))\n",
    "print('Longest word is -->',FindLongest(list2))\n",
    "print(\"First word acc to dict order --> \",DictOrder(list1)[0])\n",
    "print(\"Last word acc to dict order --> \",DictOrder(list1)[-1])\n"
   ]
  },
  {
   "cell_type": "markdown",
   "metadata": {},
   "source": [
    "Question 3\n",
    "a. Write a function inside(x,y,x1,y1,x2,y2) that returns True or False\n",
    "depending on whether the point (x,y) lies in the rectangle with lower left\n",
    "corner (x1,y1) and upper right corner (x2,y2).\\n\n",
    ">>> inside(1,1,0,0,2,3)\n",
    "True\n",
    ">>> inside(-1,-1,0,0,2,3)\n",
    "False\n",
    "b. Use function inside() from part a. to write an expression that tests whether\n",
    "the point (1,1) lies in both of the following rectangles: one with lower left\n",
    "corner (0.3, 0.5) and upper right corner (1.1, 0.7) and the other with lower\n",
    "left corner (0.5, 0.2) and upper right corner (1.1, 2). "
   ]
  },
  {
   "cell_type": "code",
   "execution_count": 3,
   "metadata": {},
   "outputs": [
    {
     "name": "stdout",
     "output_type": "stream",
     "text": [
      "(1,1) lies outside the rectangle\n"
     ]
    }
   ],
   "source": [
    "#Part a\n",
    "def inside(x,y,x1,y1,x2,y2):\n",
    "    if(x >= x1 and x <= x2 and y>=y1 and y<=y2):\n",
    "        return True\n",
    "    return False\n",
    "\n",
    "#Part b\n",
    "if(inside(1,1,0.3,0.5,1.1,0.7) and inside(1,1,0.5,0.2,1.1,2)):\n",
    "    print(\"The point (1,1) lies inside  both the rectangles\")\n",
    "else:\n",
    "    print(\"(1,1) lies outside the rectangle\")"
   ]
  },
  {
   "cell_type": "markdown",
   "metadata": {},
   "source": [
    "Question 4\n",
    "You can turn a word into pig-Latin using the following two rules (simplified): \\n\n",
    "• If the word starts with a consonant, move that letter to the end and append\n",
    "'ay'. For example, 'happy' becomes 'appyhay' and 'pencil' becomes 'encilpay'. \\n\n",
    "• If the word starts with a vowel, simply append 'way' to the end of the word.\n",
    "For example, 'enter' becomes 'enterway' and 'other' becomes 'otherway' . For\n",
    "our purposes, there are 5 vowels: a, e, i, o, u (so we count y as a consonant).\n",
    "Write a function pig() that takes a word (i.e., a string) as input and returns its pigLatin form. Your function should still work if the input word contains upper case\n",
    "characters. Your output should always be lower case however"
   ]
  },
  {
   "cell_type": "code",
   "execution_count": 4,
   "metadata": {},
   "outputs": [
    {
     "name": "stdout",
     "output_type": "stream",
     "text": [
      "appyhay\n",
      "encilpay\n",
      "enterway\n",
      "outway\n",
      "otherway\n"
     ]
    }
   ],
   "source": [
    "def pig(str):\n",
    "    out = str.lower()\n",
    "    if(out[0] == 'a' or out[0] == 'e' or out[0] == 'i' or out[0] == 'o' or out[0] == 'u'):\n",
    "        out += 'way'\n",
    "    else:\n",
    "        out = out + out[0] + 'ay'\n",
    "        out = out[1:]\n",
    "    return out\n",
    "\n",
    "list1 = ['happy','pencil','Enter','Out','other']\n",
    "for x in list1:\n",
    "    print(pig(x))"
   ]
  },
  {
   "cell_type": "markdown",
   "metadata": {},
   "source": [
    "Question 5\n",
    "File bloodtype1.txt records blood-types of patients (A, B, AB, O or OO) at a clinic.\n",
    "Write a function bldcount() that reads the file with name name and reports (i.e.,\n",
    "prints) how many patients there are in each bloodtype.\n",
    "> bldcount('bloodtype.txt')\n",
    "There are 10 patients of blood type A.\n",
    "There is one patient of blood type B.\n",
    "There are 10 patients of blood type AB.\n",
    "There are 12 patients of blood type O.\n",
    "There are no patients of blood type OO.\n",
    "\n"
   ]
  },
  {
   "cell_type": "code",
   "execution_count": 14,
   "metadata": {},
   "outputs": [
    {
     "name": "stdout",
     "output_type": "stream",
     "text": [
      "There are 15 patients of blood type A.\n",
      "There is 1 patient of blood type B.\n",
      "There are 13 patients of blood type AB.\n",
      "There are 15 patients of blood type O.\n",
      "There are 0 patients of blood type OO.\n"
     ]
    }
   ],
   "source": [
    "def bldcount(filename):\n",
    "    with open(filename) as file:\n",
    "        groups=file.readline().split()\n",
    "    ab=0\n",
    "    a=0\n",
    "    b=0\n",
    "    o=0\n",
    "    oo=0\n",
    "    for m in groups:\n",
    "        if m=='AB':\n",
    "            ab=ab+1\n",
    "        elif m=='A':\n",
    "            a=a+1\n",
    "        elif m=='B':\n",
    "            b=b+1\n",
    "        elif m=='O':\n",
    "            o=o+1\n",
    "        else:\n",
    "            oo=oo+1\n",
    "    print(\"There are {} patients of blood type A.\".format(a))\n",
    "    print(\"There is {} patient of blood type B.\".format(b))\n",
    "    print(\"There are {} patients of blood type AB.\".format(ab))\n",
    "    print(\"There are {} patients of blood type O.\".format(o))\n",
    "    print(\"There are {} patients of blood type OO.\".format(oo))\n",
    "bldcount('bloodtype.txt')"
   ]
  },
  {
   "cell_type": "markdown",
   "metadata": {},
   "source": [
    "Question 6\n",
    "Write a function curconv() that takes as input:\n",
    "1. a currency represented using a string (e.g., 'JPY' for the Japanese Yen or\n",
    "'EUR' for the Euro)\n",
    "2. an amount\n",
    "and then converts and returns the amount in US dollars\n"
   ]
  },
  {
   "cell_type": "code",
   "execution_count": 22,
   "metadata": {},
   "outputs": [
    {
     "name": "stdout",
     "output_type": "stream",
     "text": [
      "122.96544\n",
      "1.241401\n"
     ]
    }
   ],
   "source": [
    "def curconv(country,amt):\n",
    "    dollars = 0\n",
    "    exchange_rate ={}\n",
    "    with open('currencies.txt') as file:\n",
    "        for line in file.readlines():\n",
    "            exchange_rate[line.split()[0]]=line.split()[1]\n",
    "    \n",
    "    \n",
    "    return amt * float(exchange_rate[country])\n",
    "\n",
    "print(curconv('EUR' ,100))\n",
    "print(curconv('JPY', 100))"
   ]
  },
  {
   "cell_type": "markdown",
   "metadata": {},
   "source": [
    "Question 7\n",
    "Each of the following will cause an exception (an error). Identify what type of\n",
    "exception each will cause.\n",
    "Trying to add incompatible variables, as in\n",
    "adding 6 + ‘a’\n",
    "Referring to the 12th item of a list that has only 10\n",
    "items\n",
    "Using a value that is out of range for a function’s\n",
    "input, such as calling math.sqrt(-1.0)\n",
    "Using an undeclared variable, such as print(x)\n",
    "when x has not been defined \n",
    "Trying to open a file that does not exist, such as\n",
    "mistyping the file name or looking in the wrong\n",
    "directory. "
   ]
  },
  {
   "cell_type": "code",
   "execution_count": 23,
   "metadata": {},
   "outputs": [
    {
     "name": "stdout",
     "output_type": "stream",
     "text": [
      "Trying to add incompatible variables, as in adding 6 + ‘a’ -->   TypeError\n",
      "Referring to the 12th item of a list that has only 10 items -->  IndexError\n",
      "Using a value that is out of range for a function’s input  --> ValueError: math domain error\n",
      "Using an undeclared variable, such as print(x) when x has not been defined  --> NameError: name 'x' is not defined\n",
      "Trying to open a file that does not exist, --> FileNotFoundError\n"
     ]
    }
   ],
   "source": [
    "print(\"Trying to add incompatible variables, as in adding 6 + ‘a’ -->  \" , \"TypeError\")\n",
    "print(\"Referring to the 12th item of a list that has only 10 items --> \",\"IndexError\")\n",
    "print(\"Using a value that is out of range for a function’s input  -->\",\"ValueError: math domain error\")\n",
    "print(\"Using an undeclared variable, such as print(x) when x has not been defined  -->\",\"NameError: name 'x' is not defined\")\n",
    "print(\"Trying to open a file that does not exist, -->\",\"FileNotFoundError\")\n"
   ]
  },
  {
   "cell_type": "markdown",
   "metadata": {},
   "source": [
    "Question 8\n",
    "Encryption is the process of hiding the meaning of a text by substituting letters in the\n",
    "message with other letters, according to some system. If the process is successful, no\n",
    "one but the intended recipient can understand the encrypted message. Cryptanalysis\n",
    "refers to attempts to undo the encryption, even if some details of the encryption are\n",
    "unknown (for example, if an encrypted message has been intercepted). The first step\n",
    "of cryptanalysis is often to build up a table of letter frequencies in the encrypted text.\n",
    "Assume that the string letters is already defined as\n",
    "'abcdefghijklmnopqrstuvwxyz'. Write a function called frequencies()\n",
    "that takes a string as its only parameter, and returns a list of integers, showing the\n",
    "number of times each character appears in the text. Your function may ignore any\n",
    "characters that are not in letters"
   ]
  },
  {
   "cell_type": "code",
   "execution_count": 26,
   "metadata": {},
   "outputs": [
    {
     "name": "stdout",
     "output_type": "stream",
     "text": [
      "[1, 1, 1, 3, 5, 1, 1, 2, 1, 0, 1, 0, 1, 2, 4, 0, 1, 2, 0, 2, 1, 0, 1, 1, 0, 0]\n",
      "[1, 0, 0, 0, 1, 0, 0, 0, 0, 0, 0, 1, 0, 0, 0, 2, 0, 0, 0, 0, 0, 0, 0, 0, 0, 0]\n"
     ]
    }
   ],
   "source": [
    "def Hash_Fxn(c):\n",
    "    if(c>='a' and c<='z'):\n",
    "        ind = ord(c) - ord('a')\n",
    "        return ind\n",
    "    else:\n",
    "        return -1\n",
    "\n",
    "def Frequencies(str):\n",
    "    hash = []\n",
    "    for x in range(0,26):\n",
    "        hash.append(0)\n",
    "\n",
    "    for letters in str:\n",
    "        ind = Hash_Fxn(letters)\n",
    "        if(ind != -1):\n",
    "            hash[ind] = hash[ind] + 1\n",
    "    return hash\n",
    "\n",
    "str = 'The quick red fox got bored and went home.'\n",
    "\n",
    "print(Frequencies(str))\n",
    "print(Frequencies('apple'))"
   ]
  },
  {
   "cell_type": "markdown",
   "metadata": {},
   "source": [
    "Question 9\n",
    "The Sieve of Erastophenes is an algorithm -- known to ancient Greeks -- that finds\n",
    "all prime numbers up to a given number n. It does this by first creating a list L from\n",
    "2 to n and an (initially empty) list primeL. The algorithm then takes the first number\n",
    "in list L (2) and appends it to list primeL, and then removes 2 and all its multiples\n",
    "(4,6,8,10,12, ...) from L. The algorithm then takes the new first number in L (3) and\n",
    "appends it to list primeL, and then removes from L 3 and all its remaining multiples\n",
    "(9,15,21,...). So, in every iteration, the first number of list L is appended to list\n",
    "primeL and then it and its multiples are removed from list L. The iterations stop\n",
    "when list L becomes empty. Write a function sieve() that takes as input a positive\n",
    "integer n, implements the above algorithm, and returns a list of all prime numbers up\n",
    "to n."
   ]
  },
  {
   "cell_type": "code",
   "execution_count": 28,
   "metadata": {},
   "outputs": [
    {
     "name": "stdout",
     "output_type": "stream",
     "text": [
      "[2, 3, 5, 7, 11, 13, 17, 19, 23, 29, 31, 37, 41, 43, 47, 53]\n",
      "[2, 3, 5, 7, 11, 13, 17, 19, 23, 29, 31, 37, 41, 43, 47, 53, 59, 61, 67, 71, 73, 79, 83, 89, 97, 101, 103, 107, 109, 113, 127, 131, 137, 139, 149, 151, 157, 163, 167, 173, 179, 181, 191, 193, 197, 199, 211, 223, 227, 229, 233, 239, 241, 251, 257, 263, 269, 271, 277, 281, 283, 293, 307, 311, 313, 317, 331, 337, 347, 349, 353, 359, 367]\n",
      "[2, 3, 5, 7, 11, 13, 17, 19, 23, 29, 31]\n"
     ]
    }
   ],
   "source": [
    "def sieve(n):\n",
    "    L = []\n",
    "    for x in range(2,n + 1):\n",
    "        L.append(x)\n",
    "    primes = []\n",
    "    while(len(L) > 0):\n",
    "        num = L[0]\n",
    "        primes.append(num)\n",
    "        i = 0\n",
    "        for numbers in L:\n",
    "            if(numbers % num == 0):\n",
    "                L.pop(i)\n",
    "                # i = i - 1\n",
    "            i = i + 1\n",
    "    return primes\n",
    "\n",
    "print(sieve(56))\n",
    "print(sieve(368))\n",
    "print(sieve(32))"
   ]
  },
  {
   "cell_type": "markdown",
   "metadata": {},
   "source": [
    "Question 10\n",
    "Implement function triangleArea(a,b,c) that takes as input the lengths of the 3\n",
    "sides of a triangle and returns the area of the triangle. By Heron's formula, the area\n",
    "of a triangle with side lengths a, b, and c is\n",
    "sqrt(s(s - a)(s -b)(s -c))\n",
    ", where\n",
    "s = (a+b+c)/2. "
   ]
  },
  {
   "cell_type": "code",
   "execution_count": 29,
   "metadata": {},
   "outputs": [
    {
     "name": "stdout",
     "output_type": "stream",
     "text": [
      "1.7320508075688772\n"
     ]
    }
   ],
   "source": [
    "def TriangleArea(a,b,c):\n",
    "    s = (a + b + c)/2\n",
    "    area = s * (s - a) * (s - b) * (s - c)\n",
    "    area = pow(area,0.5)\n",
    "    return area\n",
    "\n",
    "print(TriangleArea(2,2,2))"
   ]
  },
  {
   "cell_type": "code",
   "execution_count": null,
   "metadata": {},
   "outputs": [],
   "source": []
  }
 ],
 "metadata": {
  "kernelspec": {
   "display_name": "Python 3",
   "language": "python",
   "name": "python3"
  },
  "language_info": {
   "codemirror_mode": {
    "name": "ipython",
    "version": 3
   },
   "file_extension": ".py",
   "mimetype": "text/x-python",
   "name": "python",
   "nbconvert_exporter": "python",
   "pygments_lexer": "ipython3",
   "version": "3.7.6"
  }
 },
 "nbformat": 4,
 "nbformat_minor": 4
}
